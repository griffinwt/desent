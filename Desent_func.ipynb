{
 "cells": [
  {
   "cell_type": "code",
   "execution_count": 2,
   "metadata": {},
   "outputs": [],
   "source": [
    "import tweepy\n",
    "import pandas as pd\n",
    "import nltk\n",
    "from nltk.sentiment.vader import SentimentIntensityAnalyzer #Valence Aware Dictionary and sEntiment Reasoner lexicon\n",
    "import numpy as np\n",
    "sentiment = SentimentIntensityAnalyzer()\n",
    "from sklearn.feature_extraction.text import CountVectorizer, TfidfVectorizer\n",
    "from nltk.corpus import stopwords\n",
    "import matplotlib.pyplot as plt\n",
    "import config as config"
   ]
  },
  {
   "cell_type": "code",
   "execution_count": 3,
   "metadata": {},
   "outputs": [],
   "source": [
    "#https://medium.com/black-tech-diva/hide-your-api-keys-7635e181a06c"
   ]
  },
  {
   "cell_type": "code",
   "execution_count": 4,
   "metadata": {},
   "outputs": [],
   "source": [
    "consumer_key = config.consumer_key\n",
    "consumer_secret = config.consumer_secret\n",
    "access_key = config.access_key\n",
    "access_secret = config.access_secret\n",
    "\n",
    "auth = tweepy.OAuthHandler(consumer_key, consumer_secret)\n",
    "auth.set_access_token(access_key, access_secret)\n",
    "api = tweepy.API(auth, wait_on_rate_limit=True)"
   ]
  },
  {
   "cell_type": "code",
   "execution_count": 115,
   "metadata": {},
   "outputs": [],
   "source": [
    "swords = set(stopwords.words('english')) #set nltk stopword list equal to a variable\n",
    "swords.update(['http', 'co', 'http co', 'ha', 'wa','amp']) #place to add custom stop words\n",
    " #add words to stopwords list\n",
    "from nltk.stem import WordNetLemmatizer\n",
    "from nltk.tokenize import RegexpTokenizer\n",
    "from sklearn.feature_extraction.text import CountVectorizer, TfidfVectorizer\n",
    "lemmatizer = WordNetLemmatizer()\n",
    "tokenizer = RegexpTokenizer(r'\\w+') #create tokenizer to remove punctuation\n",
    "cvec = CountVectorizer(stop_words=swords, #remove stop words\n",
    "                       ngram_range=(1,3),#single, paired, and triplet word patterns\n",
    "                       max_df=.5, #ngram has to appear in given percentage or less of posts\n",
    "                       min_df=3, #ngram has to appear at least this many times\n",
    "                       max_features=1_000) #maximum 1k features\n",
    "\n",
    "def tokemmetizer(dataframe): #create function to tokenize and lemmatize\n",
    "    X = dataframe['text'] #analyze text\n",
    "#    X_tokens = [tokenizer.tokenize(word) for word in X] #tokenize all words\n",
    "#    X_lem = []\n",
    "#    for item in X_tokens:\n",
    "#        X_post = []\n",
    "#        for word in item:\n",
    "#            X_post.append(lemmatizer.lemmatize(word)) #remove stop words\n",
    "#        X_lem.append(' '.join(X_post)) #rejoin lemmatized word list into strings\n",
    "    #print(type(X_lem))\n",
    "    X_c = cvec.fit_transform(X) #pass posts through count vectorizer\n",
    "    X_c_df = pd.DataFrame(X_c.todense(), columns=cvec.get_feature_names()) #make df showing word frequency\n",
    "    return X_c_df #return dataframe of values "
   ]
  },
  {
   "cell_type": "code",
   "execution_count": 6,
   "metadata": {},
   "outputs": [],
   "source": [
    "def osent(score):\n",
    "    if score > 0:\n",
    "        return 'positive'\n",
    "    elif score < 0:\n",
    "        return 'negative'\n",
    "    elif score == 0:\n",
    "        return 'neutral'\n",
    "    else:\n",
    "        return 'ERROR'"
   ]
  },
  {
   "cell_type": "code",
   "execution_count": 182,
   "metadata": {},
   "outputs": [],
   "source": [
    "from IPython.display import Markdown as md"
   ]
  },
  {
   "cell_type": "code",
   "execution_count": 239,
   "metadata": {},
   "outputs": [],
   "source": [
    "def desent(keyword, quantity=1000, counter=10):\n",
    "    search_word = keyword\n",
    "    all_tweets = []\n",
    "    new_search = search_word + '-filter:retweets'\n",
    "    for tweet in tweepy.Cursor(api.search, q=new_search, count=100,\n",
    "                              lang='en', since_id=0).items():\n",
    "        new = [tweet.created_at, tweet.id, tweet.text,\n",
    "           tweet.user.screen_name, tweet.user.name, tweet.user.location,\n",
    "              tweet.favorite_count]\n",
    "        all_tweets.append(new)\n",
    "        if len(all_tweets) == quantity: #stop at limit, default 1000\n",
    "            break\n",
    "    #create dataframe from list\n",
    "    df = pd.DataFrame(all_tweets, columns=['created_at', 'id', 'text', 'screen_name', 'name', 'location', 'likes'])\n",
    "    \n",
    "    #create new columns of sentiment\n",
    "    df['neg_sent'] = [list(sentiment.polarity_scores(text).values())[0] for text in df['text']] \n",
    "    df['neu_sent'] = [list(sentiment.polarity_scores(text).values())[1] for text in df['text']] \n",
    "    df['pos_sent'] = [list(sentiment.polarity_scores(text).values())[2] for text in df['text']] \n",
    "    df['comp_sent'] = [list(sentiment.polarity_scores(text).values())[3] for text in df['text']]\n",
    "    df['overall_sent'] = [osent(score) for score in df['comp_sent']] #rate rows as positive, negative, or neutral\n",
    "    \n",
    "    if len(df) != quantity:\n",
    "        print(f'Warning! Unable to find {quantity} tweets containing {keyword} in last 7 days')\n",
    "        print(f'Only {len(df)} tweets found')\n",
    "    \n",
    "    saved_name = keyword + '_' + str(pd.Timestamp.now()).replace('-','_').replace(' ','_').replace(':','_').replace('.','_') #create name for file by concatenating keyword and datetime\n",
    "    \n",
    "    df.to_csv(f'./saved_searches/{saved_name}.csv', index=False) #save df as keyword_timestamp to avoid overwriting\n",
    "\n",
    "    print(f'Dataframe saved as {saved_name}.csv') #print message confirming saved\n",
    "    \n",
    "    plt.figure(figsize=(12,8))\n",
    "    plt.pie(df['overall_sent'].value_counts(normalize=True), \n",
    "            labels=list(dict(df['overall_sent'].value_counts()).keys()),\n",
    "           colors=['blue', 'gray', 'orange'])\n",
    "    plt.legend(fontsize='large')\n",
    "    plt.title(f'Overall proportion of positive, neutral, and negative sentiment in {quantity} tweets containing \"{keyword}\"', size=25, color='white')\n",
    "    plt.show()\n",
    "    \n",
    "    print(f\"Starting date/time: {df['created_at'].min()}\")\n",
    "    print(f\"Ending date/time: {df['created_at'].max()}\")\n",
    "    \n",
    "    #display like distribution\n",
    "    plt.figure(figsize=(12,8))\n",
    "    df['likes'].hist(color='aqua')\n",
    "    plt.title(f'Distribution of likes for {quantity} tweets containing \"{keyword}\"', size=25)\n",
    "    plt.show()\n",
    "    \n",
    "    #display sentiment distribution\n",
    "    plt.figure(figsize=(12,8))\n",
    "    df['comp_sent'].hist(color='gold')\n",
    "    plt.title(f'Distribution of sentiment across {quantity} tweets containing\"{keyword}\"', size=25)\n",
    "    plt.show()\n",
    "    \n",
    "    #display 5 most liked tweets (full dataframe)\n",
    "    display(df[['likes', 'text', 'name', 'comp_sent']].sort_values(by='likes', ascending=False).head(5))\n",
    "    \n",
    "    #print(df.shape)\n",
    "    #sort tweets by composite score into postitive (greater than 0), negative (less than 0), or neutral (exactly 0)\n",
    "    neutral = df[df['comp_sent']==0].copy() #neutral\n",
    "    #print(df.shape)\n",
    "    positive = df[df['comp_sent']>0].copy() #positive\n",
    "    #print(df.shape)\n",
    "    negative = df[df['comp_sent']<0].copy() #negative\n",
    "    #print(df.shape)\n",
    "    dflist = [neutral, positive, negative] #list of dataframes\n",
    "    titles = ['neutral', 'positive', 'negative'] #list of df names (for plots)\n",
    "    \n",
    "    #print(df.shape)\n",
    "    \n",
    "    swords = set(stopwords.words('english')) #set nltk stopword list equal to a variable\n",
    "    swords.update(['http', 'co', 'http co', 'ha', 'wa','amp', 'fo',\n",
    "                   'https', 'ass', 'shit', 'fuck']) #place to add custom stop words\n",
    "    \n",
    "    cvec = CountVectorizer(stop_words=swords, #remove stop words\n",
    "                       ngram_range=(1,2),#single or paired words\n",
    "                       max_df=.3, #ngram has to appear in given percentage or less of posts\n",
    "                       min_df=3, #ngram has to appear at least this many times\n",
    "                       max_features=5_000) #maximum 5k features\n",
    "    \n",
    "    custom_stop_words = [] #place to store custom stop words which we will add in process\n",
    "    top_30 = [] #collection of top 10 for each (pos,neg,neu), will be tested for duplicates\n",
    "    custom_added = [] #keep track of words that are added to the stop list\n",
    "    duplicates = True #by default we assume there are duplicates in common words between classifications\n",
    "    \n",
    "    #counter = 10 #set a counter to break the loop after 10 tries of removing duplicates\n",
    "    while duplicates == True and counter > 0: #as long as there are duplicates among top 10 and counter > 0\n",
    "    \n",
    "        neu_vec = cvec.fit_transform(neutral['text']) #vectorize words for given classification\n",
    "        neu_vec = pd.DataFrame(neu_vec.todense(), columns=cvec.get_feature_names()) #store in df\n",
    "\n",
    "        pos_vec = cvec.fit_transform(positive['text'])\n",
    "        pos_vec = pd.DataFrame(pos_vec.todense(), columns=cvec.get_feature_names())\n",
    "\n",
    "        neg_vec = cvec.fit_transform(negative['text'])\n",
    "        neg_vec = pd.DataFrame(neg_vec.todense(), columns=cvec.get_feature_names())\n",
    "        \n",
    "        #test if duplicates remain between top 10 of each class\n",
    "        for tdf in [neu_vec, pos_vec, neg_vec]:\n",
    "            for word in list(dict(tdf.sum().sort_values(ascending=False).head(10)).keys()):\n",
    "                top_30.append(word) #create list of 30 words, top 10 from each category\n",
    "        if len(top_30) == len(set(top_30)): #if there are no duplicates in the list\n",
    "            duplicates = False #break out of the loop and continue\n",
    "        else:\n",
    "            for word in set(top_30):\n",
    "                top_30.remove(word) #take out 1 copy of each word\n",
    "            top_30 = list(set(top_30)) #whatever is left after removing 1 of each word from the list is a dup!\n",
    "            swords.update(top_30) #add duplicate words to stop list for re-vectorization\n",
    "            for word in top_30:\n",
    "                custom_added.append(word) #keep track of what is being added to stop words\n",
    "            top_30=[] #clear list for next run through\n",
    "            counter-=1 #counter goes down by 1\n",
    "    if counter == 0: #print a warning if counter break triggered\n",
    "        print(f'Warning! Unable to remove duplicates after {counter} cycles!') \n",
    "    else:\n",
    "        print(f'Duplicates removed after {10-counter} cycle(s)')\n",
    "        \n",
    "    print(f'Custom stop words: {custom_added}') #show duplicate words that were removed\n",
    "    \n",
    "    vec_df_list = [neu_vec, pos_vec, neg_vec] #list of category dfs, vectorized\n",
    "    \n",
    "    for n in range(len(vec_df_list)): #print visualizations for commone words in each category\n",
    "        plt.figure(figsize=(12,8))\n",
    "        vec_df_list[n].sum().sort_values(ascending=False).head(10).plot.barh(\n",
    "            fontsize = '20',\n",
    "            color='chartreuse'); #make bar chart of most frequent 10 words  \n",
    "        plt.title(f'Most frequent words associated with {titles[n]} sentiment', size=25)\n",
    "        plt.show(); #display each plot\n",
    "    \n",
    "    return 'Success'\n",
    "        \n",
    "    #display like distribution\n",
    "#    plt.figure(figsize=(12,8))\n",
    "#    df['likes'].hist(color='aqua')\n",
    "#    plt.title(f'Distribution of likes for {quantity} tweets containing \"{keyword}\"', size=25)\n",
    "#    plt.show()\n",
    "    \n",
    "    #display sentiment distribution\n",
    "#    plt.figure(figsize=(12,8))\n",
    "#    df['comp_sent'].hist(color='gold')\n",
    "#    plt.title(f'Distribution of sentiment across {quantity} tweets containing\"{keyword}\"', size=25)\n",
    "#    plt.show()\n",
    "    \n",
    "#    return df #return 5 most popular (liked) tweets"
   ]
  },
  {
   "cell_type": "code",
   "execution_count": 238,
   "metadata": {},
   "outputs": [
    {
     "name": "stdout",
     "output_type": "stream",
     "text": [
      "Dataframe saved as #epl_2021_05_21_14_02_20_036971.csv\n"
     ]
    },
    {
     "data": {
      "image/png": "[encoded data removed]",
      "text/plain": [
       "<Figure size 864x576 with 1 Axes>"
      ]
     },
     "metadata": {},
     "output_type": "display_data"
    },
    {
     "name": "stdout",
     "output_type": "stream",
     "text": [
      "Starting date/time: 2021-05-19 19:40:14\n",
      "Ending date/time: 2021-05-21 20:01:26\n"
     ]
    },
    {
     "data": {
      "image/png": "[encoded data removed]",
      "text/plain": [
       "<Figure size 864x576 with 1 Axes>"
      ]
     },
     "metadata": {
      "needs_background": "light"
     },
     "output_type": "display_data"
    },
    {
     "data": {
      "image/png": "[encoded data removed]",
      "text/plain": [
       "<Figure size 864x576 with 1 Axes>"
      ]
     },
     "metadata": {
      "needs_background": "light"
     },
     "output_type": "display_data"
    },
    {
     "data": {
      "text/html": [
       "<div>\n",
       "<style scoped>\n",
       "    .dataframe tbody tr th:only-of-type {\n",
       "        vertical-align: middle;\n",
       "    }\n",
       "\n",
       "    .dataframe tbody tr th {\n",
       "        vertical-align: top;\n",
       "    }\n",
       "\n",
       "    .dataframe thead th {\n",
       "        text-align: right;\n",
       "    }\n",
       "</style>\n",
       "<table border=\"1\" class=\"dataframe\">\n",
       "  <thead>\n",
       "    <tr style=\"text-align: right;\">\n",
       "      <th></th>\n",
       "      <th>likes</th>\n",
       "      <th>text</th>\n",
       "      <th>name</th>\n",
       "      <th>comp_sent</th>\n",
       "    </tr>\n",
       "  </thead>\n",
       "  <tbody>\n",
       "    <tr>\n",
       "      <th>824</th>\n",
       "      <td>229</td>\n",
       "      <td>FT: Burnley 0-3 Liverpool (Firmino 43’ Phillips 52’ Chamberlain 88’) #EPL #MillardAyoSPORTS https://t.co/RvtfpZDYiv</td>\n",
       "      <td>millardayo</td>\n",
       "      <td>0.0000</td>\n",
       "    </tr>\n",
       "    <tr>\n",
       "      <th>843</th>\n",
       "      <td>90</td>\n",
       "      <td>Full Time | #EPL \\nBurnley 0-3 Liverpool\\n\\n⚽️ Firmino 43'\\n⚽️ Nath Phillips 52'\\n⚽️ Oxlade 88'\\n\\nLiverpool naik ke posis… https://t.co/izQAPGKqIM</td>\n",
       "      <td>Extra Time Indonesia</td>\n",
       "      <td>0.0000</td>\n",
       "    </tr>\n",
       "    <tr>\n",
       "      <th>516</th>\n",
       "      <td>75</td>\n",
       "      <td>#EPL Gol musim ini: \\n\\nTimo Werner: 6 \\n\\nJoe Willock: 7 https://t.co/ddJmfuYabK</td>\n",
       "      <td>Siaran Bola Live</td>\n",
       "      <td>0.0000</td>\n",
       "    </tr>\n",
       "    <tr>\n",
       "      <th>647</th>\n",
       "      <td>70</td>\n",
       "      <td>Just curious as to why we don’t hear @jimbeglin and Peter Drury together anymore. Anybody? Any idea? \\nI miss that p… https://t.co/1nkmi1O3dK</td>\n",
       "      <td>Masum.</td>\n",
       "      <td>0.2640</td>\n",
       "    </tr>\n",
       "    <tr>\n",
       "      <th>421</th>\n",
       "      <td>51</td>\n",
       "      <td>Interesting turn of events here on Man Utd’s Harry #Maguire..\\n\\nObviously video would be better judge, but gone from… https://t.co/SfKEt1q3SK</td>\n",
       "      <td>InjuryMechanisms</td>\n",
       "      <td>0.4215</td>\n",
       "    </tr>\n",
       "  </tbody>\n",
       "</table>\n",
       "</div>"
      ],
      "text/plain": [
       "     likes  \\\n",
       "824  229     \n",
       "843  90      \n",
       "516  75      \n",
       "647  70      \n",
       "421  51      \n",
       "\n",
       "                                                                                                                                                    text  \\\n",
       "824  FT: Burnley 0-3 Liverpool (Firmino 43’ Phillips 52’ Chamberlain 88’) #EPL #MillardAyoSPORTS https://t.co/RvtfpZDYiv                                   \n",
       "843  Full Time | #EPL \\nBurnley 0-3 Liverpool\\n\\n⚽️ Firmino 43'\\n⚽️ Nath Phillips 52'\\n⚽️ Oxlade 88'\\n\\nLiverpool naik ke posis… https://t.co/izQAPGKqIM   \n",
       "516  #EPL Gol musim ini: \\n\\nTimo Werner: 6 \\n\\nJoe Willock: 7 https://t.co/ddJmfuYabK                                                                     \n",
       "647  Just curious as to why we don’t hear @jimbeglin and Peter Drury together anymore. Anybody? Any idea? \\nI miss that p… https://t.co/1nkmi1O3dK         \n",
       "421  Interesting turn of events here on Man Utd’s Harry #Maguire..\\n\\nObviously video would be better judge, but gone from… https://t.co/SfKEt1q3SK        \n",
       "\n",
       "                     name  comp_sent  \n",
       "824  millardayo            0.0000     \n",
       "843  Extra Time Indonesia  0.0000     \n",
       "516  Siaran Bola Live      0.0000     \n",
       "647  Masum.                0.2640     \n",
       "421  InjuryMechanisms      0.4215     "
      ]
     },
     "metadata": {},
     "output_type": "display_data"
    },
    {
     "name": "stdout",
     "output_type": "stream",
     "text": [
      "(1000, 12)\n",
      "(1000, 12)\n",
      "(1000, 12)\n",
      "(1000, 12)\n",
      "(1000, 12)\n",
      "Duplicates removed after 5 cycle(s)\n",
      "Custom stop words: ['top', 'premierleague', 'season', 'premier league', 'liverpool', 'premier', 'league', 'final', 'lfc', 'match', 'football', 'kane', 'arsenal', 'last', 'city', 'vs', 'chelsea', 'burnley', 'harry', 'live']\n"
     ]
    },
    {
     "data": {
      "image/png": "[encoded data removed]",
      "text/plain": [
       "<Figure size 864x576 with 1 Axes>"
      ]
     },
     "metadata": {
      "needs_background": "light"
     },
     "output_type": "display_data"
    },
    {
     "data": {
      "image/png": "[encoded data removed]",
      "text/plain": [
       "<Figure size 864x576 with 1 Axes>"
      ]
     },
     "metadata": {
      "needs_background": "light"
     },
     "output_type": "display_data"
    },
    {
     "data": {
      "image/png": "[encoded data removed]",
      "text/plain": [
       "<Figure size 864x576 with 1 Axes>"
      ]
     },
     "metadata": {
      "needs_background": "light"
     },
     "output_type": "display_data"
    },
    {
     "data": {
      "text/html": [
       "<div>\n",
       "<style scoped>\n",
       "    .dataframe tbody tr th:only-of-type {\n",
       "        vertical-align: middle;\n",
       "    }\n",
       "\n",
       "    .dataframe tbody tr th {\n",
       "        vertical-align: top;\n",
       "    }\n",
       "\n",
       "    .dataframe thead th {\n",
       "        text-align: right;\n",
       "    }\n",
       "</style>\n",
       "<table border=\"1\" class=\"dataframe\">\n",
       "  <thead>\n",
       "    <tr style=\"text-align: right;\">\n",
       "      <th></th>\n",
       "      <th>created_at</th>\n",
       "      <th>id</th>\n",
       "      <th>text</th>\n",
       "      <th>screen_name</th>\n",
       "      <th>name</th>\n",
       "      <th>location</th>\n",
       "      <th>likes</th>\n",
       "      <th>neg_sent</th>\n",
       "      <th>neu_sent</th>\n",
       "      <th>pos_sent</th>\n",
       "      <th>comp_sent</th>\n",
       "      <th>overall_sent</th>\n",
       "    </tr>\n",
       "  </thead>\n",
       "  <tbody>\n",
       "    <tr>\n",
       "      <th>0</th>\n",
       "      <td>2021-05-21 20:01:26</td>\n",
       "      <td>1395832125870546946</td>\n",
       "      <td>Wolverhampton Wanderers manager Nuno Espirito Santo is to leave at the end of the season, the club said on Friday.… https://t.co/6QlOUJDL7z</td>\n",
       "      <td>ESPN_Caribbean</td>\n",
       "      <td>ESPN Caribbean</td>\n",
       "      <td></td>\n",
       "      <td>0</td>\n",
       "      <td>0.057</td>\n",
       "      <td>0.943</td>\n",
       "      <td>0.000</td>\n",
       "      <td>-0.0516</td>\n",
       "      <td>negative</td>\n",
       "    </tr>\n",
       "    <tr>\n",
       "      <th>1</th>\n",
       "      <td>2021-05-21 19:58:57</td>\n",
       "      <td>1395831500344528900</td>\n",
       "      <td>Am going to miss Peter Dury 😢😢😢🤦‍♂️\\n\\n#EPL https://t.co/5ijWew3kd2</td>\n",
       "      <td>londaWorldwide</td>\n",
       "      <td>🌍 Phiwah🇮🇹.🇿🇦</td>\n",
       "      <td>Where i should be 😉</td>\n",
       "      <td>0</td>\n",
       "      <td>0.167</td>\n",
       "      <td>0.833</td>\n",
       "      <td>0.000</td>\n",
       "      <td>-0.1531</td>\n",
       "      <td>negative</td>\n",
       "    </tr>\n",
       "    <tr>\n",
       "      <th>2</th>\n",
       "      <td>2021-05-21 19:54:09</td>\n",
       "      <td>1395830293190348806</td>\n",
       "      <td>Guys I’m panicking. How do we usually cope when there’s no Premiere League game to look forward to again? This seas… https://t.co/CJ2xCpotOP</td>\n",
       "      <td>VicTorYLoga</td>\n",
       "      <td>V I C T O R Y</td>\n",
       "      <td>Melbourne, Victoria, Australia</td>\n",
       "      <td>0</td>\n",
       "      <td>0.203</td>\n",
       "      <td>0.797</td>\n",
       "      <td>0.000</td>\n",
       "      <td>-0.6249</td>\n",
       "      <td>negative</td>\n",
       "    </tr>\n",
       "    <tr>\n",
       "      <th>3</th>\n",
       "      <td>2021-05-21 19:48:19</td>\n",
       "      <td>1395828824382771207</td>\n",
       "      <td>Breaking: sex session reports untrue, protests West Bromwich Albion legend #EPL</td>\n",
       "      <td>EPLplayernews</td>\n",
       "      <td>#EPL player news</td>\n",
       "      <td></td>\n",
       "      <td>0</td>\n",
       "      <td>0.160</td>\n",
       "      <td>0.840</td>\n",
       "      <td>0.000</td>\n",
       "      <td>-0.2263</td>\n",
       "      <td>negative</td>\n",
       "    </tr>\n",
       "    <tr>\n",
       "      <th>4</th>\n",
       "      <td>2021-05-21 19:47:56</td>\n",
       "      <td>1395828728157118466</td>\n",
       "      <td>I await the apologies..... ;) https://t.co/v1jJl3QczL #molineuxmix  #wolverhamptonwanderers  #wolves  #wwfc… https://t.co/o6qUViQdKB</td>\n",
       "      <td>molineuxmix</td>\n",
       "      <td>Molineux Mix</td>\n",
       "      <td>Wolverhampton</td>\n",
       "      <td>0</td>\n",
       "      <td>0.000</td>\n",
       "      <td>0.708</td>\n",
       "      <td>0.292</td>\n",
       "      <td>0.3182</td>\n",
       "      <td>positive</td>\n",
       "    </tr>\n",
       "    <tr>\n",
       "      <th>...</th>\n",
       "      <td>...</td>\n",
       "      <td>...</td>\n",
       "      <td>...</td>\n",
       "      <td>...</td>\n",
       "      <td>...</td>\n",
       "      <td>...</td>\n",
       "      <td>...</td>\n",
       "      <td>...</td>\n",
       "      <td>...</td>\n",
       "      <td>...</td>\n",
       "      <td>...</td>\n",
       "      <td>...</td>\n",
       "    </tr>\n",
       "    <tr>\n",
       "      <th>995</th>\n",
       "      <td>2021-05-19 19:45:22</td>\n",
       "      <td>1395103306956120067</td>\n",
       "      <td>How do turn the fan noise off on sky? #WBAWHU #EPL</td>\n",
       "      <td>StiofanEmary</td>\n",
       "      <td>Mr Emary (PE)</td>\n",
       "      <td>Bedford/Hastings</td>\n",
       "      <td>1</td>\n",
       "      <td>0.000</td>\n",
       "      <td>0.813</td>\n",
       "      <td>0.187</td>\n",
       "      <td>0.3182</td>\n",
       "      <td>positive</td>\n",
       "    </tr>\n",
       "    <tr>\n",
       "      <th>996</th>\n",
       "      <td>2021-05-19 19:44:49</td>\n",
       "      <td>1395103166278946816</td>\n",
       "      <td>DINK THAT IN THIAGO!!!!!! #LFC #BURLIV #EPL</td>\n",
       "      <td>zubinofficial</td>\n",
       "      <td>Zubin Daver</td>\n",
       "      <td>Mumbai</td>\n",
       "      <td>1</td>\n",
       "      <td>0.000</td>\n",
       "      <td>1.000</td>\n",
       "      <td>0.000</td>\n",
       "      <td>0.0000</td>\n",
       "      <td>neutral</td>\n",
       "    </tr>\n",
       "    <tr>\n",
       "      <th>997</th>\n",
       "      <td>2021-05-19 19:44:29</td>\n",
       "      <td>1395103082384695300</td>\n",
       "      <td>Matheus Pereira take a bow #WBAWHU  #WBA #WHUFC  #PremierLeague #EPL</td>\n",
       "      <td>TheFootiePost</td>\n",
       "      <td>The Footie Post</td>\n",
       "      <td>West Midlands, England</td>\n",
       "      <td>0</td>\n",
       "      <td>0.000</td>\n",
       "      <td>1.000</td>\n",
       "      <td>0.000</td>\n",
       "      <td>0.0000</td>\n",
       "      <td>neutral</td>\n",
       "    </tr>\n",
       "    <tr>\n",
       "      <th>998</th>\n",
       "      <td>2021-05-19 19:41:17</td>\n",
       "      <td>1395102276440711169</td>\n",
       "      <td>Since losing to Brighton we are W4 D2 L2 F15 A14 Pts 14 This includes games v Man City (1), Leicester (4), Liverpoo… https://t.co/0FoGT2VcJw</td>\n",
       "      <td>drdanloaf</td>\n",
       "      <td>Dr Dan</td>\n",
       "      <td></td>\n",
       "      <td>0</td>\n",
       "      <td>0.106</td>\n",
       "      <td>0.894</td>\n",
       "      <td>0.000</td>\n",
       "      <td>-0.3818</td>\n",
       "      <td>negative</td>\n",
       "    </tr>\n",
       "    <tr>\n",
       "      <th>999</th>\n",
       "      <td>2021-05-19 19:40:14</td>\n",
       "      <td>1395102014003204101</td>\n",
       "      <td>#EPL RESULTS UPDATES\\n80' Crystal Palace 1 - 1 Arsenal\\n24' Burnley 0 - 0 Liverpool\\n24' West Bromwich Albion 0 - 0 We… https://t.co/xVAySJ7CJQ</td>\n",
       "      <td>IsaacWaihenya</td>\n",
       "      <td>Isaac Waihenya</td>\n",
       "      <td></td>\n",
       "      <td>8</td>\n",
       "      <td>0.000</td>\n",
       "      <td>1.000</td>\n",
       "      <td>0.000</td>\n",
       "      <td>0.0000</td>\n",
       "      <td>neutral</td>\n",
       "    </tr>\n",
       "  </tbody>\n",
       "</table>\n",
       "<p>1000 rows × 12 columns</p>\n",
       "</div>"
      ],
      "text/plain": [
       "             created_at                   id  \\\n",
       "0   2021-05-21 20:01:26  1395832125870546946   \n",
       "1   2021-05-21 19:58:57  1395831500344528900   \n",
       "2   2021-05-21 19:54:09  1395830293190348806   \n",
       "3   2021-05-21 19:48:19  1395828824382771207   \n",
       "4   2021-05-21 19:47:56  1395828728157118466   \n",
       "..                  ...                  ...   \n",
       "995 2021-05-19 19:45:22  1395103306956120067   \n",
       "996 2021-05-19 19:44:49  1395103166278946816   \n",
       "997 2021-05-19 19:44:29  1395103082384695300   \n",
       "998 2021-05-19 19:41:17  1395102276440711169   \n",
       "999 2021-05-19 19:40:14  1395102014003204101   \n",
       "\n",
       "                                                                                                                                                text  \\\n",
       "0    Wolverhampton Wanderers manager Nuno Espirito Santo is to leave at the end of the season, the club said on Friday.… https://t.co/6QlOUJDL7z       \n",
       "1    Am going to miss Peter Dury 😢😢😢🤦‍♂️\\n\\n#EPL https://t.co/5ijWew3kd2                                                                               \n",
       "2    Guys I’m panicking. How do we usually cope when there’s no Premiere League game to look forward to again? This seas… https://t.co/CJ2xCpotOP      \n",
       "3    Breaking: sex session reports untrue, protests West Bromwich Albion legend #EPL                                                                   \n",
       "4    I await the apologies..... ;) https://t.co/v1jJl3QczL #molineuxmix  #wolverhamptonwanderers  #wolves  #wwfc… https://t.co/o6qUViQdKB              \n",
       "..                                                                                                                                    ...              \n",
       "995  How do turn the fan noise off on sky? #WBAWHU #EPL                                                                                                \n",
       "996  DINK THAT IN THIAGO!!!!!! #LFC #BURLIV #EPL                                                                                                       \n",
       "997  Matheus Pereira take a bow #WBAWHU  #WBA #WHUFC  #PremierLeague #EPL                                                                              \n",
       "998  Since losing to Brighton we are W4 D2 L2 F15 A14 Pts 14 This includes games v Man City (1), Leicester (4), Liverpoo… https://t.co/0FoGT2VcJw      \n",
       "999  #EPL RESULTS UPDATES\\n80' Crystal Palace 1 - 1 Arsenal\\n24' Burnley 0 - 0 Liverpool\\n24' West Bromwich Albion 0 - 0 We… https://t.co/xVAySJ7CJQ   \n",
       "\n",
       "        screen_name              name                        location  likes  \\\n",
       "0    ESPN_Caribbean  ESPN Caribbean                                    0       \n",
       "1    londaWorldwide  🌍 Phiwah🇮🇹.🇿🇦     Where i should be 😉             0       \n",
       "2    VicTorYLoga     V I C T O R Y     Melbourne, Victoria, Australia  0       \n",
       "3    EPLplayernews   #EPL player news                                  0       \n",
       "4    molineuxmix     Molineux Mix      Wolverhampton                   0       \n",
       "..           ...              ...                ...                  ..       \n",
       "995  StiofanEmary    Mr Emary (PE)     Bedford/Hastings                1       \n",
       "996  zubinofficial   Zubin Daver       Mumbai                          1       \n",
       "997  TheFootiePost   The Footie Post   West Midlands, England          0       \n",
       "998  drdanloaf       Dr Dan                                            0       \n",
       "999  IsaacWaihenya   Isaac Waihenya                                    8       \n",
       "\n",
       "     neg_sent  neu_sent  pos_sent  comp_sent overall_sent  \n",
       "0    0.057     0.943     0.000    -0.0516     negative     \n",
       "1    0.167     0.833     0.000    -0.1531     negative     \n",
       "2    0.203     0.797     0.000    -0.6249     negative     \n",
       "3    0.160     0.840     0.000    -0.2263     negative     \n",
       "4    0.000     0.708     0.292     0.3182     positive     \n",
       "..     ...       ...       ...        ...          ...     \n",
       "995  0.000     0.813     0.187     0.3182     positive     \n",
       "996  0.000     1.000     0.000     0.0000     neutral      \n",
       "997  0.000     1.000     0.000     0.0000     neutral      \n",
       "998  0.106     0.894     0.000    -0.3818     negative     \n",
       "999  0.000     1.000     0.000     0.0000     neutral      \n",
       "\n",
       "[1000 rows x 12 columns]"
      ]
     },
     "execution_count": 238,
     "metadata": {},
     "output_type": "execute_result"
    }
   ],
   "source": [
    "desent('#epl')"
   ]
  },
  {
   "cell_type": "code",
   "execution_count": null,
   "metadata": {},
   "outputs": [],
   "source": [
    "#filter out duplicates with stop words, count / track and print out w/count\n",
    "#add time.sleep function on button in deployment to prevent throttling\n",
    "#build in query\n",
    "#twitter, facebook, reddit"
   ]
  },
  {
   "cell_type": "code",
   "execution_count": null,
   "metadata": {},
   "outputs": [],
   "source": []
  },
  {
   "cell_type": "code",
   "execution_count": null,
   "metadata": {},
   "outputs": [],
   "source": []
  },
  {
   "cell_type": "code",
   "execution_count": null,
   "metadata": {},
   "outputs": [],
   "source": []
  },
  {
   "cell_type": "code",
   "execution_count": null,
   "metadata": {},
   "outputs": [],
   "source": []
  },
  {
   "cell_type": "markdown",
   "metadata": {},
   "source": [
    "I'm going to try a different angle on this project - finding the most popular positive and negative tweets. I'll start with the initial framework from above and then adjust as needed."
   ]
  },
  {
   "cell_type": "code",
   "execution_count": 68,
   "metadata": {},
   "outputs": [],
   "source": [
    "def desent2(keyword, quantity=1000):\n",
    "    search_word = keyword\n",
    "    all_tweets = []\n",
    "    new_search = search_word + '-filter:retweets'\n",
    "    for tweet in tweepy.Cursor(api.search, q=new_search, count=100,\n",
    "                              lang='en', since_id=0).items():\n",
    "        new = [tweet.created_at, tweet.id, tweet.text,\n",
    "           tweet.user.screen_name, tweet.user.name, tweet.user.location, #all the same paramaters as above\n",
    "              tweet.favorite_count #NEW count number of \"likes\"\n",
    "              ] \n",
    "        all_tweets.append(new)\n",
    "        if len(all_tweets) == quantity: #stop at limit, default 1000\n",
    "            break\n",
    "    #create dataframe from list\n",
    "    df = pd.DataFrame(all_tweets, columns=['created_at', 'id', 'text', 'screen_name', 'name', 'location',\n",
    "                                          'likes'])\n",
    "    \n",
    "    #create new columns of sentiment\n",
    "    df['neg_sent'] = [list(sentiment.polarity_scores(text).values())[0] for text in df['text']] \n",
    "    df['neu_sent'] = [list(sentiment.polarity_scores(text).values())[1] for text in df['text']] \n",
    "    df['pos_sent'] = [list(sentiment.polarity_scores(text).values())[2] for text in df['text']] \n",
    "    df['comp_sent'] = [list(sentiment.polarity_scores(text).values())[3] for text in df['text']]\n",
    "    df['overall_sent'] = [osent(score) for score in df['comp_sent']] #rate rows as positive, negative, or neutral\n",
    "    #print(df['overall_sent'].value_counts(normalize=True)) #print breakdown of sentiment\n",
    "    plt.pie(df['overall_sent'].value_counts(normalize=True), \n",
    "            labels=list(dict(df['overall_sent'].value_counts()).keys()))\n",
    "    plt.legend()\n",
    "    plt.show()\n",
    "    return df"
   ]
  },
  {
   "cell_type": "code",
   "execution_count": 89,
   "metadata": {},
   "outputs": [
    {
     "data": {
      "image/png": "[encoded data removed]",
      "text/plain": [
       "<Figure size 432x288 with 1 Axes>"
      ]
     },
     "metadata": {},
     "output_type": "display_data"
    }
   ],
   "source": [
    "test_df = desent2('#elmo')"
   ]
  },
  {
   "cell_type": "code",
   "execution_count": 90,
   "metadata": {},
   "outputs": [
    {
     "data": {
      "text/plain": [
       "(37, 12)"
      ]
     },
     "execution_count": 90,
     "metadata": {},
     "output_type": "execute_result"
    }
   ],
   "source": [
    "test_df.shape"
   ]
  },
  {
   "cell_type": "code",
   "execution_count": 123,
   "metadata": {},
   "outputs": [],
   "source": [
    "#test_df"
   ]
  },
  {
   "cell_type": "code",
   "execution_count": null,
   "metadata": {},
   "outputs": [],
   "source": [
    "#know when search term is popular"
   ]
  },
  {
   "cell_type": "code",
   "execution_count": 119,
   "metadata": {},
   "outputs": [],
   "source": [
    "#test_df.sort_values(by='likes', ascending=False)"
   ]
  },
  {
   "cell_type": "code",
   "execution_count": 71,
   "metadata": {},
   "outputs": [
    {
     "data": {
      "image/png": "[encoded data removed]",
      "text/plain": [
       "<Figure size 432x288 with 1 Axes>"
      ]
     },
     "metadata": {
      "needs_background": "light"
     },
     "output_type": "display_data"
    }
   ],
   "source": [
    "test_df['comp_sent'].hist(); #view sentiment distribution"
   ]
  },
  {
   "cell_type": "code",
   "execution_count": 72,
   "metadata": {},
   "outputs": [
    {
     "data": {
      "image/png": "[encoded data removed]",
      "text/plain": [
       "<Figure size 432x288 with 1 Axes>"
      ]
     },
     "metadata": {
      "needs_background": "light"
     },
     "output_type": "display_data"
    }
   ],
   "source": [
    "test_df['likes'].hist(); #view like distribution"
   ]
  },
  {
   "cell_type": "code",
   "execution_count": 73,
   "metadata": {},
   "outputs": [
    {
     "data": {
      "image/png": "[encoded data removed]",
      "text/plain": [
       "<Figure size 432x288 with 1 Axes>"
      ]
     },
     "metadata": {
      "needs_background": "light"
     },
     "output_type": "display_data"
    }
   ],
   "source": [
    "test_df['name'].value_counts().hist(); #unique posters"
   ]
  },
  {
   "cell_type": "code",
   "execution_count": 74,
   "metadata": {},
   "outputs": [
    {
     "data": {
      "text/plain": [
       "Timestamp('2021-05-17 05:00:35')"
      ]
     },
     "execution_count": 74,
     "metadata": {},
     "output_type": "execute_result"
    }
   ],
   "source": [
    "test_df['created_at'].min()"
   ]
  },
  {
   "cell_type": "code",
   "execution_count": 75,
   "metadata": {},
   "outputs": [
    {
     "data": {
      "text/plain": [
       "Timestamp('2021-05-19 19:12:00')"
      ]
     },
     "execution_count": 75,
     "metadata": {},
     "output_type": "execute_result"
    }
   ],
   "source": [
    "test_df['created_at'].max() #3 hr range"
   ]
  },
  {
   "cell_type": "code",
   "execution_count": 76,
   "metadata": {},
   "outputs": [
    {
     "data": {
      "text/plain": [
       "Denver, CO                        303\n",
       "                                  151\n",
       "Vancouver, British Columbia       40 \n",
       "Denver, Colorado                  31 \n",
       "Colorado Springs, CO              29 \n",
       "                                  .. \n",
       "Elizabeth, CO                     1  \n",
       "Home of PATS, RED SOX & BRUINS    1  \n",
       "Los Angeles, 🇸🇻, 🇺🇸               1  \n",
       "7001 Yampa Street Denver, CO      1  \n",
       "Nationwide, USA                   1  \n",
       "Name: location, Length: 182, dtype: int64"
      ]
     },
     "execution_count": 76,
     "metadata": {},
     "output_type": "execute_result"
    }
   ],
   "source": [
    "test_df['location'].value_counts()"
   ]
  },
  {
   "cell_type": "code",
   "execution_count": 77,
   "metadata": {},
   "outputs": [],
   "source": [
    "#follower count for each handle?\n",
    "#segment sent score (quadrants - percentage - quartiles), then scale likes\n",
    "#engagement percentage - review standard social media metrics\n",
    "    #number of people that engage divided by # of followers?\n",
    "        #likes / followers = engagement score?\n",
    "#counts of retweets, comments\n"
   ]
  },
  {
   "cell_type": "code",
   "execution_count": 78,
   "metadata": {},
   "outputs": [],
   "source": [
    "#drop tweets with zero likes\n",
    "test_df = test_df[test_df['likes']>0]"
   ]
  },
  {
   "cell_type": "code",
   "execution_count": 79,
   "metadata": {},
   "outputs": [
    {
     "data": {
      "text/plain": [
       "count    302.000000\n",
       "mean     0.200892  \n",
       "std      0.371583  \n",
       "min     -0.867100  \n",
       "25%      0.000000  \n",
       "50%      0.000000  \n",
       "75%      0.589275  \n",
       "max      0.921700  \n",
       "Name: comp_sent, dtype: float64"
      ]
     },
     "execution_count": 79,
     "metadata": {},
     "output_type": "execute_result"
    }
   ],
   "source": [
    "test_df['comp_sent'].describe() #quartiles"
   ]
  },
  {
   "cell_type": "code",
   "execution_count": 80,
   "metadata": {},
   "outputs": [],
   "source": [
    "description = dict(test_df['comp_sent'].describe())"
   ]
  },
  {
   "cell_type": "code",
   "execution_count": 81,
   "metadata": {},
   "outputs": [
    {
     "name": "stdout",
     "output_type": "stream",
     "text": [
      "-0.8671 0.0 0.0 0.589275 0.9217\n"
     ]
    }
   ],
   "source": [
    "print(\n",
    "    description['min'],\n",
    "    description['25%'],\n",
    "    description['50%'],\n",
    "    description['75%'],\n",
    "    description['max']\n",
    ") #test printing ranges"
   ]
  },
  {
   "cell_type": "code",
   "execution_count": 82,
   "metadata": {},
   "outputs": [
    {
     "name": "stdout",
     "output_type": "stream",
     "text": [
      "min-25% \n",
      " 172 --- \n",
      " 25%-50% \n",
      " 0 --- \n",
      " 50%-75% \n",
      " 54 --- \n",
      " 75%-max \n",
      " 76\n"
     ]
    }
   ],
   "source": [
    "print(\n",
    "    'min-25% \\n',\n",
    "    test_df[test_df['comp_sent']<=description['25%']]['id'].count(),\n",
    "    '--- \\n',\n",
    "    '25%-50% \\n',\n",
    "    test_df[(test_df['comp_sent']>description['25%']) & (test_df['comp_sent']<=description['50%'])]['id'].count(),\n",
    "    '--- \\n',\n",
    "    '50%-75% \\n',\n",
    "    test_df[(test_df['comp_sent']>description['50%']) & (test_df['comp_sent']<=description['75%'])]['id'].count(),\n",
    "    '--- \\n',\n",
    "    '75%-max \\n',\n",
    "    test_df[(test_df['comp_sent']>description['75%']) & (test_df['comp_sent']<=description['max'])]['id'].count()\n",
    ")"
   ]
  },
  {
   "cell_type": "code",
   "execution_count": 83,
   "metadata": {},
   "outputs": [
    {
     "data": {
      "text/plain": [
       "(302, 12)"
      ]
     },
     "execution_count": 83,
     "metadata": {},
     "output_type": "execute_result"
    }
   ],
   "source": [
    "test_df.shape"
   ]
  },
  {
   "cell_type": "code",
   "execution_count": 84,
   "metadata": {},
   "outputs": [],
   "source": [
    "pd.options.display.max_colwidth=0 #show full text"
   ]
  },
  {
   "cell_type": "code",
   "execution_count": 85,
   "metadata": {},
   "outputs": [
    {
     "data": {
      "text/html": [
       "<div>\n",
       "<style scoped>\n",
       "    .dataframe tbody tr th:only-of-type {\n",
       "        vertical-align: middle;\n",
       "    }\n",
       "\n",
       "    .dataframe tbody tr th {\n",
       "        vertical-align: top;\n",
       "    }\n",
       "\n",
       "    .dataframe thead th {\n",
       "        text-align: right;\n",
       "    }\n",
       "</style>\n",
       "<table border=\"1\" class=\"dataframe\">\n",
       "  <thead>\n",
       "    <tr style=\"text-align: right;\">\n",
       "      <th></th>\n",
       "      <th>text</th>\n",
       "      <th>comp_sent</th>\n",
       "      <th>likes</th>\n",
       "    </tr>\n",
       "  </thead>\n",
       "  <tbody>\n",
       "    <tr>\n",
       "      <th>830</th>\n",
       "      <td>This setup is simply amazing. Just look at that Thelio 😍 \\n\\n📷: @entropyhq \\n\\n#System76 #Thelio #Desktop #Setup… https://t.co/0u4TbMfQLh</td>\n",
       "      <td>0.5859</td>\n",
       "      <td>397</td>\n",
       "    </tr>\n",
       "    <tr>\n",
       "      <th>821</th>\n",
       "      <td>As of yesterday there are no capacity restrictions or general mask mandates in #Denver — we are in “Level Clear.”… https://t.co/aO96xER7NP</td>\n",
       "      <td>-0.2960</td>\n",
       "      <td>238</td>\n",
       "    </tr>\n",
       "    <tr>\n",
       "      <th>415</th>\n",
       "      <td>Seriously, #Denver?! Or should I say Seattle’s twin?! 🌧🌨 #9wx https://t.co/yC5EJJTaZY</td>\n",
       "      <td>-0.3907</td>\n",
       "      <td>82</td>\n",
       "    </tr>\n",
       "    <tr>\n",
       "      <th>904</th>\n",
       "      <td>Denver Nuggets sets thread.\\n1. Horns back screen to elbow hand-off\\n#NBA #NBATwitter #basketball #Nuggets #Denver https://t.co/5vxjh0ktNj</td>\n",
       "      <td>0.0000</td>\n",
       "      <td>79</td>\n",
       "    </tr>\n",
       "    <tr>\n",
       "      <th>413</th>\n",
       "      <td>Just wanted to say THANKS to Dr Cutarelli at @cutarellivision !   He did my Lasik surgery and now my cataract surge… https://t.co/WXPZ3n66KR</td>\n",
       "      <td>0.6027</td>\n",
       "      <td>65</td>\n",
       "    </tr>\n",
       "    <tr>\n",
       "      <th>...</th>\n",
       "      <td>...</td>\n",
       "      <td>...</td>\n",
       "      <td>...</td>\n",
       "    </tr>\n",
       "    <tr>\n",
       "      <th>406</th>\n",
       "      <td>#Suspect arrested in #fatal #shooting at southeast #Denver apartment complex - May 18 @ 4:23 PM ET https://t.co/M06BuWcnCu</td>\n",
       "      <td>-0.4767</td>\n",
       "      <td>1</td>\n",
       "    </tr>\n",
       "    <tr>\n",
       "      <th>408</th>\n",
       "      <td>The continued efforts from @VillasArmy nation wide and @MileHighLokos for @miseleccionmxEN and @ColoradoRapids here… https://t.co/7xKa8W7JCg</td>\n",
       "      <td>0.0000</td>\n",
       "      <td>1</td>\n",
       "    </tr>\n",
       "    <tr>\n",
       "      <th>411</th>\n",
       "      <td>Leeeets Goo🤗!!! \\n🎵🎶🤸‍♀️\\n\\n#Denver to #LasVegas \\n#EDM #Vegasbound #Sincity @deadmau5 #Deadmau5 @insomniacevents https://t.co/EXxtOZHZZg</td>\n",
       "      <td>0.0000</td>\n",
       "      <td>1</td>\n",
       "    </tr>\n",
       "    <tr>\n",
       "      <th>412</th>\n",
       "      <td>Women and people of color in the #Denver region can apply for the Real Estate Diversity Initiative (REDI) training… https://t.co/y6GgWoCHmx</td>\n",
       "      <td>0.0000</td>\n",
       "      <td>1</td>\n",
       "    </tr>\n",
       "    <tr>\n",
       "      <th>997</th>\n",
       "      <td>-\\nUpgrade your lifestyle today with FREE shipping to #FortWorth #Indianapolis #Charlotte #Seattle #Denver #ElPaso… https://t.co/JNfNWgGW1Z</td>\n",
       "      <td>0.6166</td>\n",
       "      <td>1</td>\n",
       "    </tr>\n",
       "  </tbody>\n",
       "</table>\n",
       "<p>302 rows × 3 columns</p>\n",
       "</div>"
      ],
      "text/plain": [
       "                                                                                                                                             text  \\\n",
       "830  This setup is simply amazing. Just look at that Thelio 😍 \\n\\n📷: @entropyhq \\n\\n#System76 #Thelio #Desktop #Setup… https://t.co/0u4TbMfQLh      \n",
       "821  As of yesterday there are no capacity restrictions or general mask mandates in #Denver — we are in “Level Clear.”… https://t.co/aO96xER7NP     \n",
       "415  Seriously, #Denver?! Or should I say Seattle’s twin?! 🌧🌨 #9wx https://t.co/yC5EJJTaZY                                                          \n",
       "904  Denver Nuggets sets thread.\\n1. Horns back screen to elbow hand-off\\n#NBA #NBATwitter #basketball #Nuggets #Denver https://t.co/5vxjh0ktNj     \n",
       "413  Just wanted to say THANKS to Dr Cutarelli at @cutarellivision !   He did my Lasik surgery and now my cataract surge… https://t.co/WXPZ3n66KR   \n",
       "..                                                                                                                                            ...   \n",
       "406  #Suspect arrested in #fatal #shooting at southeast #Denver apartment complex - May 18 @ 4:23 PM ET https://t.co/M06BuWcnCu                     \n",
       "408  The continued efforts from @VillasArmy nation wide and @MileHighLokos for @miseleccionmxEN and @ColoradoRapids here… https://t.co/7xKa8W7JCg   \n",
       "411  Leeeets Goo🤗!!! \\n🎵🎶🤸‍♀️\\n\\n#Denver to #LasVegas \\n#EDM #Vegasbound #Sincity @deadmau5 #Deadmau5 @insomniacevents https://t.co/EXxtOZHZZg      \n",
       "412  Women and people of color in the #Denver region can apply for the Real Estate Diversity Initiative (REDI) training… https://t.co/y6GgWoCHmx    \n",
       "997  -\\nUpgrade your lifestyle today with FREE shipping to #FortWorth #Indianapolis #Charlotte #Seattle #Denver #ElPaso… https://t.co/JNfNWgGW1Z    \n",
       "\n",
       "     comp_sent  likes  \n",
       "830  0.5859     397    \n",
       "821 -0.2960     238    \n",
       "415 -0.3907     82     \n",
       "904  0.0000     79     \n",
       "413  0.6027     65     \n",
       "..      ...     ..     \n",
       "406 -0.4767     1      \n",
       "408  0.0000     1      \n",
       "411  0.0000     1      \n",
       "412  0.0000     1      \n",
       "997  0.6166     1      \n",
       "\n",
       "[302 rows x 3 columns]"
      ]
     },
     "execution_count": 85,
     "metadata": {},
     "output_type": "execute_result"
    }
   ],
   "source": [
    "test_df[['text', 'comp_sent', 'likes']].sort_values(by='likes', ascending=False)"
   ]
  },
  {
   "cell_type": "code",
   "execution_count": 120,
   "metadata": {},
   "outputs": [],
   "source": [
    "#test_df"
   ]
  },
  {
   "cell_type": "code",
   "execution_count": null,
   "metadata": {},
   "outputs": [],
   "source": []
  },
  {
   "cell_type": "code",
   "execution_count": 124,
   "metadata": {},
   "outputs": [
    {
     "data": {
      "text/plain": [
       "cd                    8\n",
       "sesamestreet          7\n",
       "sesame                6\n",
       "street                6\n",
       "sesame street         6\n",
       "elmo sesame           5\n",
       "elmo sesame street    5\n",
       "hot                   5\n",
       "street cd             4\n",
       "check elmo            4\n",
       "dtype: int64"
      ]
     },
     "execution_count": 124,
     "metadata": {},
     "output_type": "execute_result"
    }
   ],
   "source": [
    "t1 = cvec.fit_transform(test_df['text'])\n",
    "t1 = pd.DataFrame(t1.todense(), columns=cvec.get_feature_names())\n",
    "#list(t1.sum().sort_values(ascending=False).head(10)"
   ]
  },
  {
   "cell_type": "code",
   "execution_count": 130,
   "metadata": {},
   "outputs": [
    {
     "data": {
      "text/plain": [
       "['cd',\n",
       " 'sesamestreet',\n",
       " 'sesame',\n",
       " 'street',\n",
       " 'sesame street',\n",
       " 'elmo sesame',\n",
       " 'elmo sesame street',\n",
       " 'hot',\n",
       " 'street cd',\n",
       " 'check elmo']"
      ]
     },
     "execution_count": 130,
     "metadata": {},
     "output_type": "execute_result"
    }
   ],
   "source": [
    "list(dict(t1.sum().sort_values(ascending=False).head(10)).keys())"
   ]
  },
  {
   "cell_type": "code",
   "execution_count": null,
   "metadata": {},
   "outputs": [],
   "source": []
  },
  {
   "cell_type": "code",
   "execution_count": null,
   "metadata": {},
   "outputs": [],
   "source": []
  },
  {
   "cell_type": "code",
   "execution_count": 25,
   "metadata": {},
   "outputs": [
    {
     "data": {
      "text/html": [
       "<div>\n",
       "<style scoped>\n",
       "    .dataframe tbody tr th:only-of-type {\n",
       "        vertical-align: middle;\n",
       "    }\n",
       "\n",
       "    .dataframe tbody tr th {\n",
       "        vertical-align: top;\n",
       "    }\n",
       "\n",
       "    .dataframe thead th {\n",
       "        text-align: right;\n",
       "    }\n",
       "</style>\n",
       "<table border=\"1\" class=\"dataframe\">\n",
       "  <thead>\n",
       "    <tr style=\"text-align: right;\">\n",
       "      <th></th>\n",
       "      <th>created_at</th>\n",
       "      <th>id</th>\n",
       "      <th>text</th>\n",
       "      <th>screen_name</th>\n",
       "      <th>name</th>\n",
       "      <th>location</th>\n",
       "      <th>likes</th>\n",
       "      <th>neg_sent</th>\n",
       "      <th>neu_sent</th>\n",
       "      <th>pos_sent</th>\n",
       "      <th>comp_sent</th>\n",
       "      <th>overall_sent</th>\n",
       "    </tr>\n",
       "  </thead>\n",
       "  <tbody>\n",
       "    <tr>\n",
       "      <th>419</th>\n",
       "      <td>2021-05-17 12:45:04</td>\n",
       "      <td>1394272755986612228</td>\n",
       "      <td>Log Lane Village police chief arrested on susp...</td>\n",
       "      <td>policeofficer</td>\n",
       "      <td>Raymond E. Foster</td>\n",
       "      <td>San Dimas, CA</td>\n",
       "      <td>3</td>\n",
       "      <td>0.495</td>\n",
       "      <td>0.505</td>\n",
       "      <td>0.0</td>\n",
       "      <td>-0.8689</td>\n",
       "      <td>negative</td>\n",
       "    </tr>\n",
       "    <tr>\n",
       "      <th>332</th>\n",
       "      <td>2021-05-17 15:05:48</td>\n",
       "      <td>1394308174723706883</td>\n",
       "      <td>#Colorado Insurrectionist Violates NO GUN Orde...</td>\n",
       "      <td>jimodonnell2</td>\n",
       "      <td>Jim O'Donnell</td>\n",
       "      <td>Taos New Mexico</td>\n",
       "      <td>3</td>\n",
       "      <td>0.539</td>\n",
       "      <td>0.461</td>\n",
       "      <td>0.0</td>\n",
       "      <td>-0.8543</td>\n",
       "      <td>negative</td>\n",
       "    </tr>\n",
       "    <tr>\n",
       "      <th>333</th>\n",
       "      <td>2021-05-17 15:05:03</td>\n",
       "      <td>1394307987133456384</td>\n",
       "      <td>How the HELL is it so hard to get a Covid rapi...</td>\n",
       "      <td>AuthorDelaneyW</td>\n",
       "      <td>Delaney Williams, Antifa treasurer</td>\n",
       "      <td>Denver, CO</td>\n",
       "      <td>1</td>\n",
       "      <td>0.254</td>\n",
       "      <td>0.746</td>\n",
       "      <td>0.0</td>\n",
       "      <td>-0.8172</td>\n",
       "      <td>negative</td>\n",
       "    </tr>\n",
       "    <tr>\n",
       "      <th>835</th>\n",
       "      <td>2021-05-16 12:00:01</td>\n",
       "      <td>1393899033358344193</td>\n",
       "      <td>#Colorado a #dog has been killed and another i...</td>\n",
       "      <td>ActionRspca</td>\n",
       "      <td>Community Action to Reform RSPCA</td>\n",
       "      <td>England, Wales and beyond</td>\n",
       "      <td>2</td>\n",
       "      <td>0.356</td>\n",
       "      <td>0.644</td>\n",
       "      <td>0.0</td>\n",
       "      <td>-0.8020</td>\n",
       "      <td>negative</td>\n",
       "    </tr>\n",
       "    <tr>\n",
       "      <th>143</th>\n",
       "      <td>2021-05-17 20:15:03</td>\n",
       "      <td>1394385998755385344</td>\n",
       "      <td>After a #Colorado man was arrested for alleged...</td>\n",
       "      <td>newsbreakApp</td>\n",
       "      <td>News Break</td>\n",
       "      <td>Mountain View, CA</td>\n",
       "      <td>2</td>\n",
       "      <td>0.283</td>\n",
       "      <td>0.717</td>\n",
       "      <td>0.0</td>\n",
       "      <td>-0.7717</td>\n",
       "      <td>negative</td>\n",
       "    </tr>\n",
       "    <tr>\n",
       "      <th>...</th>\n",
       "      <td>...</td>\n",
       "      <td>...</td>\n",
       "      <td>...</td>\n",
       "      <td>...</td>\n",
       "      <td>...</td>\n",
       "      <td>...</td>\n",
       "      <td>...</td>\n",
       "      <td>...</td>\n",
       "      <td>...</td>\n",
       "      <td>...</td>\n",
       "      <td>...</td>\n",
       "      <td>...</td>\n",
       "    </tr>\n",
       "    <tr>\n",
       "      <th>405</th>\n",
       "      <td>2021-05-17 13:03:48</td>\n",
       "      <td>1394277472691113986</td>\n",
       "      <td>I spent some time stalking hummingbirds this w...</td>\n",
       "      <td>bgordonphotogr1</td>\n",
       "      <td>b_gordon_photography</td>\n",
       "      <td>Denver, CO</td>\n",
       "      <td>6</td>\n",
       "      <td>0.000</td>\n",
       "      <td>1.000</td>\n",
       "      <td>0.0</td>\n",
       "      <td>0.0000</td>\n",
       "      <td>neutral</td>\n",
       "    </tr>\n",
       "    <tr>\n",
       "      <th>406</th>\n",
       "      <td>2021-05-17 13:03:44</td>\n",
       "      <td>1394277456253698051</td>\n",
       "      <td>\"This is a book you’ll long remember after rea...</td>\n",
       "      <td>MaryLSchmidt</td>\n",
       "      <td>Mary L Schmidt, Author aka #SJackson #MultiAwards</td>\n",
       "      <td>Colorado</td>\n",
       "      <td>3</td>\n",
       "      <td>0.000</td>\n",
       "      <td>1.000</td>\n",
       "      <td>0.0</td>\n",
       "      <td>0.0000</td>\n",
       "      <td>neutral</td>\n",
       "    </tr>\n",
       "    <tr>\n",
       "      <th>407</th>\n",
       "      <td>2021-05-17 13:03:27</td>\n",
       "      <td>1394277383734276099</td>\n",
       "      <td>\"This is a book you’ll long remember after rea...</td>\n",
       "      <td>MaryLSchmidt</td>\n",
       "      <td>Mary L Schmidt, Author aka #SJackson #MultiAwards</td>\n",
       "      <td>Colorado</td>\n",
       "      <td>3</td>\n",
       "      <td>0.000</td>\n",
       "      <td>1.000</td>\n",
       "      <td>0.0</td>\n",
       "      <td>0.0000</td>\n",
       "      <td>neutral</td>\n",
       "    </tr>\n",
       "    <tr>\n",
       "      <th>367</th>\n",
       "      <td>2021-05-17 14:23:28</td>\n",
       "      <td>1394297519119556613</td>\n",
       "      <td>A SUMMARY OF VISCOUNT'S DRILLING IN KATE EAST ...</td>\n",
       "      <td>ViscountMining</td>\n",
       "      <td>Viscount Mining Inc.</td>\n",
       "      <td>Vancouver, BC</td>\n",
       "      <td>4</td>\n",
       "      <td>0.000</td>\n",
       "      <td>1.000</td>\n",
       "      <td>0.0</td>\n",
       "      <td>0.0000</td>\n",
       "      <td>neutral</td>\n",
       "    </tr>\n",
       "    <tr>\n",
       "      <th>996</th>\n",
       "      <td>2021-05-15 22:10:52</td>\n",
       "      <td>1393690372308492288</td>\n",
       "      <td>@KerryTipperHD28 @usavolleyball @GMA @TODAYsho...</td>\n",
       "      <td>RandiMcCallian</td>\n",
       "      <td>Randi McCallian, MPH, IBCLC</td>\n",
       "      <td>Colorado Springs, CO</td>\n",
       "      <td>6</td>\n",
       "      <td>0.000</td>\n",
       "      <td>1.000</td>\n",
       "      <td>0.0</td>\n",
       "      <td>0.0000</td>\n",
       "      <td>neutral</td>\n",
       "    </tr>\n",
       "  </tbody>\n",
       "</table>\n",
       "<p>227 rows × 12 columns</p>\n",
       "</div>"
      ],
      "text/plain": [
       "             created_at                   id  \\\n",
       "419 2021-05-17 12:45:04  1394272755986612228   \n",
       "332 2021-05-17 15:05:48  1394308174723706883   \n",
       "333 2021-05-17 15:05:03  1394307987133456384   \n",
       "835 2021-05-16 12:00:01  1393899033358344193   \n",
       "143 2021-05-17 20:15:03  1394385998755385344   \n",
       "..                  ...                  ...   \n",
       "405 2021-05-17 13:03:48  1394277472691113986   \n",
       "406 2021-05-17 13:03:44  1394277456253698051   \n",
       "407 2021-05-17 13:03:27  1394277383734276099   \n",
       "367 2021-05-17 14:23:28  1394297519119556613   \n",
       "996 2021-05-15 22:10:52  1393690372308492288   \n",
       "\n",
       "                                                  text      screen_name  \\\n",
       "419  Log Lane Village police chief arrested on susp...    policeofficer   \n",
       "332  #Colorado Insurrectionist Violates NO GUN Orde...     jimodonnell2   \n",
       "333  How the HELL is it so hard to get a Covid rapi...   AuthorDelaneyW   \n",
       "835  #Colorado a #dog has been killed and another i...      ActionRspca   \n",
       "143  After a #Colorado man was arrested for alleged...     newsbreakApp   \n",
       "..                                                 ...              ...   \n",
       "405  I spent some time stalking hummingbirds this w...  bgordonphotogr1   \n",
       "406  \"This is a book you’ll long remember after rea...     MaryLSchmidt   \n",
       "407  \"This is a book you’ll long remember after rea...     MaryLSchmidt   \n",
       "367  A SUMMARY OF VISCOUNT'S DRILLING IN KATE EAST ...   ViscountMining   \n",
       "996  @KerryTipperHD28 @usavolleyball @GMA @TODAYsho...   RandiMcCallian   \n",
       "\n",
       "                                                  name  \\\n",
       "419                                  Raymond E. Foster   \n",
       "332                                      Jim O'Donnell   \n",
       "333                 Delaney Williams, Antifa treasurer   \n",
       "835                   Community Action to Reform RSPCA   \n",
       "143                                         News Break   \n",
       "..                                                 ...   \n",
       "405                               b_gordon_photography   \n",
       "406  Mary L Schmidt, Author aka #SJackson #MultiAwards   \n",
       "407  Mary L Schmidt, Author aka #SJackson #MultiAwards   \n",
       "367                               Viscount Mining Inc.   \n",
       "996                        Randi McCallian, MPH, IBCLC   \n",
       "\n",
       "                      location  likes  neg_sent  neu_sent  pos_sent  \\\n",
       "419              San Dimas, CA      3     0.495     0.505       0.0   \n",
       "332            Taos New Mexico      3     0.539     0.461       0.0   \n",
       "333                 Denver, CO      1     0.254     0.746       0.0   \n",
       "835  England, Wales and beyond      2     0.356     0.644       0.0   \n",
       "143          Mountain View, CA      2     0.283     0.717       0.0   \n",
       "..                         ...    ...       ...       ...       ...   \n",
       "405                 Denver, CO      6     0.000     1.000       0.0   \n",
       "406                   Colorado      3     0.000     1.000       0.0   \n",
       "407                   Colorado      3     0.000     1.000       0.0   \n",
       "367             Vancouver, BC       4     0.000     1.000       0.0   \n",
       "996       Colorado Springs, CO      6     0.000     1.000       0.0   \n",
       "\n",
       "     comp_sent overall_sent  \n",
       "419    -0.8689     negative  \n",
       "332    -0.8543     negative  \n",
       "333    -0.8172     negative  \n",
       "835    -0.8020     negative  \n",
       "143    -0.7717     negative  \n",
       "..         ...          ...  \n",
       "405     0.0000      neutral  \n",
       "406     0.0000      neutral  \n",
       "407     0.0000      neutral  \n",
       "367     0.0000      neutral  \n",
       "996     0.0000      neutral  \n",
       "\n",
       "[227 rows x 12 columns]"
      ]
     },
     "execution_count": 25,
     "metadata": {},
     "output_type": "execute_result"
    }
   ],
   "source": [
    "test_df[test_df['comp_sent']<=description['25%']].sort_values(by='comp_sent')"
   ]
  },
  {
   "cell_type": "code",
   "execution_count": null,
   "metadata": {},
   "outputs": [],
   "source": []
  },
  {
   "cell_type": "code",
   "execution_count": null,
   "metadata": {},
   "outputs": [],
   "source": []
  },
  {
   "cell_type": "code",
   "execution_count": 68,
   "metadata": {},
   "outputs": [
    {
     "name": "stdout",
     "output_type": "stream",
     "text": [
      "-0.8685 0.0 0.0258 0.5859 0.9605\n"
     ]
    }
   ],
   "source": [
    "print(\n",
    "    test_df['comp_sent'].min(),\n",
    "    #list(test_df['comp_sent'].sort_values())[0], #should be same as min TRUE\n",
    "    list(test_df['comp_sent'].sort_values())[249],\n",
    "    list(test_df['comp_sent'].sort_values())[499],\n",
    "    list(test_df['comp_sent'].sort_values())[749],\n",
    "    #list(test_df['comp_sent'].sort_values())[999], #should be same as max TRUE\n",
    "    test_df['comp_sent'].max()\n",
    ")"
   ]
  },
  {
   "cell_type": "code",
   "execution_count": 69,
   "metadata": {},
   "outputs": [],
   "source": [
    "splits = {\n",
    "    'min':test_df['comp_sent'].min(),\n",
    "    '25%':list(test_df['comp_sent'].sort_values())[249],\n",
    "    '50%':list(test_df['comp_sent'].sort_values())[499],\n",
    "    '75%':list(test_df['comp_sent'].sort_values())[749],\n",
    "    'max':test_df['comp_sent'].max()\n",
    "}#create dictionary of EVEN 25% segments"
   ]
  },
  {
   "cell_type": "code",
   "execution_count": 70,
   "metadata": {},
   "outputs": [
    {
     "data": {
      "text/plain": [
       "{'min': -0.8685, '25%': 0.0, '50%': 0.0258, '75%': 0.5859, 'max': 0.9605}"
      ]
     },
     "execution_count": 70,
     "metadata": {},
     "output_type": "execute_result"
    }
   ],
   "source": [
    "splits #preview"
   ]
  },
  {
   "cell_type": "code",
   "execution_count": null,
   "metadata": {},
   "outputs": [],
   "source": [
    "print(\n",
    "    'min-25% \\n',\n",
    "    test_df[test_df['comp_sent']<=description['25%']]['comp_sent'].count(),\n",
    "    '--- \\n',\n",
    "    '25%-50% \\n',\n",
    "    test_df[(test_df['comp_sent']>description['25%']) & (test_df['comp_sent']<=description['50%'])]['comp_sent'].count(),\n",
    "    '--- \\n',\n",
    "    '50%-75% \\n',\n",
    "    test_df[(test_df['comp_sent']>description['50%']) & (test_df['comp_sent']<=description['75%'])]['comp_sent'].count(),\n",
    "    '--- \\n',\n",
    "    '75%-max \\n',\n",
    "    test_df[(test_df['comp_sent']>description['75%']) & (test_df['comp_sent']<=description['max'])]['comp_sent'].count()\n",
    ")"
   ]
  }
 ],
 "metadata": {
  "kernelspec": {
   "display_name": "Python 3",
   "language": "python",
   "name": "python3"
  },
  "language_info": {
   "codemirror_mode": {
    "name": "ipython",
    "version": 3
   },
   "file_extension": ".py",
   "mimetype": "text/x-python",
   "name": "python",
   "nbconvert_exporter": "python",
   "pygments_lexer": "ipython3",
   "version": "3.8.3"
  }
 },
 "nbformat": 4,
 "nbformat_minor": 4
}
